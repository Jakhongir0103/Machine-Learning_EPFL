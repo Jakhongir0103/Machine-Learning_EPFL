{
 "cells": [
  {
   "cell_type": "code",
   "execution_count": 1,
   "metadata": {},
   "outputs": [],
   "source": [
    "%load_ext autoreload\n",
    "%autoreload 2\n",
    "\n",
    "import numpy as np\n",
    "import scipy.io\n",
    "import matplotlib.pyplot as plt\n",
    "from test_utils import test\n",
    "from typing import NamedTuple, List, Dict, Tuple"
   ]
  },
  {
   "cell_type": "markdown",
   "metadata": {},
   "source": [
    "# Load the data"
   ]
  },
  {
   "cell_type": "markdown",
   "metadata": {},
   "source": [
    "We will be working with the MovieLens dataset, containing 100k movie ratings.\n",
    "The goal is to predict the rating of a (movie, user) pair, given other ratings by this user and of this movie."
   ]
  },
  {
   "cell_type": "code",
   "execution_count": 2,
   "metadata": {},
   "outputs": [
    {
     "name": "stdout",
     "output_type": "stream",
     "text": [
      "Loaded 100000 ratings of 943 users for 1682 movies.\n"
     ]
    }
   ],
   "source": [
    "class Dataset(NamedTuple):\n",
    "    \"\"\"Data container with three arrays of the same length:\"\"\"\n",
    "\n",
    "    movies: np.ndarray\n",
    "    users: np.ndarray\n",
    "    ratings: np.ndarray\n",
    "\n",
    "\n",
    "def load_data() -> Dataset:\n",
    "    \"\"\"Load a sparse matrix from a matlab file and return is as a list of\"\"\"\n",
    "    data = scipy.io.loadmat(\"movielens100k.mat\")[\"ratings\"]\n",
    "    movies, users = data.nonzero()  # indices of available ratings in the matrix\n",
    "    ratings = data[movies, users].A1\n",
    "    return Dataset(movies, users, ratings)\n",
    "\n",
    "\n",
    "dataset = load_data()\n",
    "\n",
    "num_users = np.max(dataset.users) + 1\n",
    "num_movies = np.max(dataset.movies) + 1\n",
    "\n",
    "print(\n",
    "    f\"Loaded {len(dataset.ratings)} ratings of {num_users} users for {num_movies} movies.\"\n",
    ")"
   ]
  },
  {
   "cell_type": "markdown",
   "metadata": {},
   "source": [
    "# Plot the number of ratings per movie and user\n",
    "\n",
    "It will be too tricky to make predictions for movies and users for which too few ratings are available.\n",
    "Below we will investigate the distribution of how many ratings we have for various users and movies, to evaluate if we need to exclude some users or movies."
   ]
  },
  {
   "cell_type": "code",
   "execution_count": 3,
   "metadata": {},
   "outputs": [],
   "source": [
    "def count_ratings_per_movie(dataset: Dataset) -> Dict[int, int]:\n",
    "    \"\"\"Count the number of ratings available per movie\n",
    "\n",
    "    Inputs:\n",
    "        dataset: Dataset\n",
    "\n",
    "    Returns:\n",
    "        counts: a dictionary form movie id (int) -> count (int)\n",
    "\n",
    "    >>> count_ratings_per_movie(Dataset(np.array([0, 0, 1]), np.array([1, 2, 1]), np.array([1.0, 2.0, 3.0])))\n",
    "    {0: 2, 1: 1}\n",
    "    \"\"\"\n",
    "    counts = {}\n",
    "    movie_count = np.unique(dataset.movies,return_counts=True)\n",
    "    for idx, movie in enumerate(movie_count[0]):\n",
    "        counts[movie] = movie_count[1][idx]\n",
    "\n",
    "    return counts\n",
    "\n",
    "\n",
    "def count_ratings_per_user(dataset: Dataset) -> Dict[int, int]:\n",
    "    \"\"\"Count the number of ratings given by a user\n",
    "\n",
    "    Inputs:\n",
    "        dataset: Dataset\n",
    "\n",
    "    Returns:\n",
    "        counts: a dictionary form user id (int) -> count (int)\n",
    "\n",
    "    >>> count_ratings_per_user(Dataset(np.array([0, 0, 1]), np.array([1, 2, 2]), np.array([4.0, 1.0, 2.0])))\n",
    "    {1: 1, 2: 2}\n",
    "    \"\"\"\n",
    "    counts = {}\n",
    "    user_count = np.unique(dataset.users,return_counts=True)\n",
    "    for idx, user in enumerate(user_count[0]):\n",
    "        counts[user] = user_count[1][idx]\n",
    "\n",
    "    return counts\n"
   ]
  },
  {
   "cell_type": "code",
   "execution_count": 5,
   "metadata": {},
   "outputs": [
    {
     "name": "stdout",
     "output_type": "stream",
     "text": [
      "✅ Your `count_ratings_per_movie` passes some basic tests.\n",
      "✅ Your `count_ratings_per_user` passes some basic tests.\n"
     ]
    }
   ],
   "source": [
    "test(count_ratings_per_movie)\n",
    "test(count_ratings_per_user)"
   ]
  },
  {
   "cell_type": "markdown",
   "metadata": {},
   "source": [
    "Let's plot the results:"
   ]
  },
  {
   "cell_type": "code",
   "execution_count": 6,
   "metadata": {},
   "outputs": [
    {
     "data": {
      "image/png": "[encoded data removed]",
      "text/plain": [
       "<Figure size 1000x250 with 2 Axes>"
      ]
     },
     "metadata": {},
     "output_type": "display_data"
    }
   ],
   "source": [
    "num_ratings_per_movie = count_ratings_per_movie(dataset)\n",
    "num_ratings_per_user = count_ratings_per_user(dataset)\n",
    "\n",
    "fig, axes = plt.subplots(ncols=2, figsize=(10, 2.5))\n",
    "for ax, ratings, unit in zip(\n",
    "    axes, (num_ratings_per_movie, num_ratings_per_user), (\"movie\", \"user\")\n",
    "):\n",
    "    ax.hist(ratings.values())\n",
    "    ax.set_title(f\"# Ratings per {unit} (histogram)\")\n",
    "    ax.set_xlabel(\"# Ratings\")\n",
    "    ax.set_ylabel(\"# Occurences\")\n",
    "    ax.set_yscale('log')"
   ]
  },
  {
   "cell_type": "code",
   "execution_count": 7,
   "metadata": {},
   "outputs": [
    {
     "name": "stdout",
     "output_type": "stream",
     "text": [
      "min # of movies per user = 20, \n",
      "min # of users per movie = 1.\n"
     ]
    }
   ],
   "source": [
    "print(\n",
    "    \"min # of movies per user = {}, \\nmin # of users per movie = {}.\".format(\n",
    "        min(num_ratings_per_user.values()), min(num_ratings_per_movie.values())\n",
    "    )\n",
    ")"
   ]
  },
  {
   "cell_type": "markdown",
   "metadata": {},
   "source": [
    "# Remove movies with too few ratings\n",
    "\n",
    "As is typical for real-life data, those distributions have a very long tail. There are some movies that have only one rating. Predictions for those will be very unreliable, so we want to take them out of the dataset."
   ]
  },
  {
   "cell_type": "code",
   "execution_count": 4,
   "metadata": {},
   "outputs": [],
   "source": [
    "def remove_rare_movies(dataset: Dataset, min_ratings_per_movie=10) -> Dataset:\n",
    "    \"\"\"Filter a dataset, and keep only movies with a minimum number of reviews\n",
    "\n",
    "    Inputs:\n",
    "        dataset: Dataset\n",
    "        min_cases: int, the required minimum number\n",
    "\n",
    "    Returns:\n",
    "        new dataset: Dataset\n",
    "\n",
    "    >>> test_dataset = Dataset(np.array([0, 0, 1]), np.array([0, 1, 1]), np.array([1.0, 1.0, 1.0]))\n",
    "    >>> remove_rare_movies(test_dataset, 2)\n",
    "    Dataset(movies=array([0, 0]), users=array([0, 1]), ratings=array([1., 1.]))\n",
    "    \"\"\"\n",
    "    num_ratings_per_movie = count_ratings_per_movie(dataset)\n",
    "    movies = [movie for movie in num_ratings_per_movie.keys() if num_ratings_per_movie[movie]>=min_ratings_per_movie]\n",
    "    movies_idx = [idx for idx, movie in enumerate(dataset.movies) if movie in movies]\n",
    "    pruned_dataset = Dataset(\n",
    "        movies = dataset.movies[movies_idx],\n",
    "        users = dataset.users[movies_idx],\n",
    "        ratings = dataset.ratings[movies_idx]\n",
    "    )\n",
    "    return pruned_dataset"
   ]
  },
  {
   "cell_type": "code",
   "execution_count": 9,
   "metadata": {},
   "outputs": [
    {
     "name": "stdout",
     "output_type": "stream",
     "text": [
      "✅ Your `remove_rare_movies` passes some basic tests.\n"
     ]
    }
   ],
   "source": [
    "test(remove_rare_movies)"
   ]
  },
  {
   "cell_type": "code",
   "execution_count": 5,
   "metadata": {},
   "outputs": [
    {
     "name": "stdout",
     "output_type": "stream",
     "text": [
      "There are 97953 ratings left after pruning the dataset.\n"
     ]
    }
   ],
   "source": [
    "pruned_dataset = remove_rare_movies(dataset)\n",
    "print(\n",
    "    f\"There are {len(pruned_dataset.ratings)} ratings left after pruning the dataset.\"\n",
    ")"
   ]
  },
  {
   "cell_type": "markdown",
   "metadata": {},
   "source": [
    "# Split the data into a train and test set"
   ]
  },
  {
   "cell_type": "code",
   "execution_count": 6,
   "metadata": {},
   "outputs": [],
   "source": [
    "def split_dataset(dataset, p_test=0.1, seed=1):\n",
    "    \"\"\"\n",
    "    Split a dataset randomly into a train and a test part\n",
    "\n",
    "    Inputs:\n",
    "        dataset: Dataset\n",
    "        p_test: float\n",
    "            propability (0 < p_test < 1) for a data point to go into the test set\n",
    "        seed: integer\n",
    "\n",
    "    Returns:\n",
    "        train_dataset: Dataset\n",
    "        test_dataset: Dataset\n",
    "\n",
    "    >>> split_dataset(Dataset(np.array([0, 0]), np.array([1, 0]), np.array([2.0, 1.0])), p_test=0)\n",
    "    (Dataset(movies=array([0, 0]), users=array([1, 0]), ratings=array([2., 1.])), Dataset(movies=array([], dtype=int64), users=array([], dtype=int64), ratings=array([], dtype=float64)))\n",
    "\n",
    "    >>> split_dataset(Dataset(np.array([0, 0]), np.array([1, 0]), np.array([2.0, 1.0])), p_test=1)\n",
    "    (Dataset(movies=array([], dtype=int64), users=array([], dtype=int64), ratings=array([], dtype=float64)), Dataset(movies=array([0, 0]), users=array([1, 0]), ratings=array([2., 1.])))\n",
    "    \"\"\"\n",
    "    # use this generator (https://numpy.org/doc/stable/reference/random/index.html)\n",
    "    # you should use rng.uniform() once inside this function to match the automatic test case\n",
    "    rng = np.random.default_rng(seed)\n",
    "    lenght = len(dataset.ratings)\n",
    "    test_idx = rng.choice(lenght,int(p_test*lenght),replace=False)\n",
    "    train_idx = np.setdiff1d(np.arange(lenght),test_idx)\n",
    "\n",
    "    test_data = Dataset(\n",
    "        movies = dataset.movies[test_idx],\n",
    "        users = dataset.users[test_idx],\n",
    "        ratings = dataset.ratings[test_idx]\n",
    "    )\n",
    "\n",
    "    train_data = Dataset(\n",
    "        movies = dataset.movies[train_idx],\n",
    "        users = dataset.users[train_idx],\n",
    "        ratings = dataset.ratings[train_idx]\n",
    "    )\n",
    "\n",
    "    return train_data, test_data"
   ]
  },
  {
   "cell_type": "code",
   "execution_count": null,
   "metadata": {},
   "outputs": [],
   "source": [
    "test(split_dataset)"
   ]
  },
  {
   "cell_type": "code",
   "execution_count": 7,
   "metadata": {},
   "outputs": [
    {
     "name": "stdout",
     "output_type": "stream",
     "text": [
      "Number of training points: 88158\n",
      "Number of test points: 9795\n"
     ]
    }
   ],
   "source": [
    "train_data, test_data = split_dataset(pruned_dataset, p_test=0.1, seed=10)\n",
    "print(\"Number of training points:\", len(train_data.ratings))\n",
    "print(\"Number of test points:\", len(test_data.ratings))"
   ]
  },
  {
   "cell_type": "markdown",
   "metadata": {},
   "source": [
    "# Visualize the dataset\n",
    "So far, our data has been represented by a list of ratings. We will look at how we can interpret these ratings in a matrix (movies x users) and plot it."
   ]
  },
  {
   "cell_type": "code",
   "execution_count": 8,
   "metadata": {},
   "outputs": [],
   "source": [
    "def to_matrix(dataset, num_movies, num_users):\n",
    "    \"\"\"\n",
    "    Construct a dense matrix out of the dataset.\n",
    "\n",
    "    Input:\n",
    "        dataset: Dataset\n",
    "\n",
    "    Output:\n",
    "        matrix: np.array of floats: (# movies, # users) -> rating (float) or np.NaN if unavailable\n",
    "\n",
    "    >>> to_matrix(Dataset(np.array([1, 1, 0]), np.array([0, 1, 0]), np.array([1.0, 3.0, 2.5])), 3, 2)\n",
    "    array([[2.5, nan],\n",
    "           [1. , 3. ],\n",
    "           [nan, nan]])\n",
    "    \"\"\"\n",
    "    m = (\n",
    "        np.zeros([num_movies, num_users]) * np.NaN\n",
    "    )  # We want NaNs for unavailable ratings\n",
    "    for movie,user,rating in zip(dataset.movies, dataset.users, dataset.ratings):\n",
    "        m[movie,user] = rating\n",
    "    ### HINT: Edit `m` by filling in the available ratings\n",
    "    return m"
   ]
  },
  {
   "cell_type": "code",
   "execution_count": 15,
   "metadata": {},
   "outputs": [
    {
     "name": "stdout",
     "output_type": "stream",
     "text": [
      "✅ Your `to_matrix` passes some basic tests.\n"
     ]
    }
   ],
   "source": [
    "test(to_matrix)"
   ]
  },
  {
   "cell_type": "markdown",
   "metadata": {},
   "source": [
    "Let's plot the train and test dataset "
   ]
  },
  {
   "cell_type": "code",
   "execution_count": 9,
   "metadata": {},
   "outputs": [
    {
     "data": {
      "image/png": "[encoded data removed]",
      "text/plain": [
       "<Figure size 800x300 with 4 Axes>"
      ]
     },
     "metadata": {},
     "output_type": "display_data"
    }
   ],
   "source": [
    "fig, axes = plt.subplots(ncols=3, figsize=(8, 3))\n",
    "for ax, label, data in zip(\n",
    "    axes, (\"All data\", \"Train data\", \"Test data\"), (dataset, train_data, test_data)\n",
    "):\n",
    "    im = ax.matshow(to_matrix(data, num_movies, num_users))\n",
    "    ax.set_title(label)\n",
    "    ax.set_xlabel(\"Movie\")\n",
    "    ax.set_ylabel(\"User\")\n",
    "fig.colorbar(im, label=\"Rating\")\n",
    "plt.show()"
   ]
  },
  {
   "cell_type": "markdown",
   "metadata": {},
   "source": [
    "# Comparing predictors\n",
    "\n",
    "The goal of recommender systems is to fill in those matrices. In the remainder of this Notebook, we will implement different methods of making those predictions. Let's first develop the tools to compare them.\n",
    "\n",
    "Our prediction methods will all have the following form:"
   ]
  },
  {
   "cell_type": "code",
   "execution_count": 10,
   "metadata": {},
   "outputs": [],
   "source": [
    "class Predictor:\n",
    "    def __init__(self, train_data: Dataset):\n",
    "        # This is where you can do any preparation or 'training' if necessary.\n",
    "        pass\n",
    "\n",
    "    def __call__(self, test_data: Dataset):\n",
    "        \"\"\"\n",
    "        Make predictions for the users and movies in the test dataset\n",
    "        (without looking at the ratings).\n",
    "\n",
    "        Inputs:\n",
    "            test_data: Dataset (with `n` entries)\n",
    "\n",
    "        Output:\n",
    "            predictions: np.array of floats, shape (`n`)\n",
    "        \"\"\"\n",
    "        raise NotImplementedError()"
   ]
  },
  {
   "cell_type": "markdown",
   "metadata": {},
   "source": [
    " You would use a predictor like this as follows:\n",
    " \n",
    " ```\n",
    " p = Predictor(train_data)  # this initializes the model. This may include training.\n",
    " predictions = p(test_data)  # this calls `__call__` and makes a prediction.\n",
    " ```"
   ]
  },
  {
   "cell_type": "markdown",
   "metadata": {},
   "source": [
    "As an example, a predictor that recommends the same rating everywhere would look like this:"
   ]
  },
  {
   "cell_type": "code",
   "execution_count": 11,
   "metadata": {},
   "outputs": [],
   "source": [
    "class GlobalMeanPredictor(Predictor):\n",
    "    \"\"\"\n",
    "    Always predict the mean rating from the training set\n",
    "\n",
    "    >>> train_data = Dataset(np.array([1, 2, 3, 4]), np.array([1, 2, 3, 4]), np.array([1.0, 2.0, 2.0, 5.0]))\n",
    "    >>> test_data = Dataset(np.array([1, 2, 3, 4]), np.array([2, 1, 4, 0]), np.array([4.0, 1.0, 1.0, 2.0]))\n",
    "    >>> mean_predictor = GlobalMeanPredictor(train_data)\n",
    "    >>> mean_predictor(test_data)\n",
    "    array([2.5, 2.5, 2.5, 2.5])\n",
    "    \"\"\"\n",
    "\n",
    "    def __init__(self, train_data: Dataset):\n",
    "        self.mean = train_data.ratings.mean()\n",
    "\n",
    "    def __call__(self, test_data: Dataset):\n",
    "        return np.full_like(test_data.ratings, fill_value=self.mean)"
   ]
  },
  {
   "cell_type": "code",
   "execution_count": 12,
   "metadata": {},
   "outputs": [
    {
     "name": "stdout",
     "output_type": "stream",
     "text": [
      "✅ Your `GlobalMeanPredictor` passes some basic tests.\n"
     ]
    }
   ],
   "source": [
    "test(GlobalMeanPredictor)"
   ]
  },
  {
   "cell_type": "markdown",
   "metadata": {},
   "source": [
    "We can evaluate the predictions using Mean Squared Error:"
   ]
  },
  {
   "cell_type": "code",
   "execution_count": 13,
   "metadata": {},
   "outputs": [],
   "source": [
    "def mse(predictions, real_ratings):\n",
    "    \"\"\"Compute the mean squared prediction error\n",
    "\n",
    "    Inputs:\n",
    "        predictions: np.array of floats, shape (n)\n",
    "        real_ratings: np.array of floats, shape (n)\n",
    "\n",
    "    Returns:\n",
    "        mean squared error: float\n",
    "\n",
    "    >>> mse(np.array([1., 1.2, 2.]), np.array([2., 1., 1.5]))\n",
    "    0.43\n",
    "    >>> mse(np.array([4., 2., 1.]), np.array([4., 3., 1.]))\n",
    "    0.3333333333333333\n",
    "    \"\"\"\n",
    "    return np.mean((real_ratings-predictions)**2)"
   ]
  },
  {
   "cell_type": "code",
   "execution_count": 14,
   "metadata": {},
   "outputs": [
    {
     "name": "stdout",
     "output_type": "stream",
     "text": [
      "✅ Your `mse` passes some basic tests.\n"
     ]
    }
   ],
   "source": [
    "test(mse)"
   ]
  },
  {
   "cell_type": "markdown",
   "metadata": {},
   "source": [
    "The error for the global mean predictor can now be computed:"
   ]
  },
  {
   "cell_type": "code",
   "execution_count": 15,
   "metadata": {},
   "outputs": [
    {
     "data": {
      "text/plain": [
       "1.2566583941072602"
      ]
     },
     "execution_count": 15,
     "metadata": {},
     "output_type": "execute_result"
    }
   ],
   "source": [
    "predict_global_mean = GlobalMeanPredictor(train_data)\n",
    "\n",
    "mse(predict_global_mean(test_data), test_data.ratings)"
   ]
  },
  {
   "cell_type": "markdown",
   "metadata": {},
   "source": [
    "It is always good to include simple baselines like this one in your machine learning experimentation. We now know that we should at least beat an MSE of `1.24` on the test set."
   ]
  },
  {
   "cell_type": "markdown",
   "metadata": {},
   "source": [
    "## Baselines "
   ]
  },
  {
   "cell_type": "markdown",
   "metadata": {},
   "source": [
    "We will now gradually make the baseline predictor more complex, by differentiating between users. The idea is that some users will give higher scores on average than others."
   ]
  },
  {
   "cell_type": "markdown",
   "metadata": {},
   "source": [
    "### User's mean prediction\n",
    "\n",
    "Here, to predict the score for a tuple `(movie, user)`, we will return the  average all movie ratings of the `user`."
   ]
  },
  {
   "cell_type": "code",
   "execution_count": 16,
   "metadata": {},
   "outputs": [],
   "source": [
    "class UserMeanPredictor(Predictor):\n",
    "    \"\"\"\n",
    "    Predict the mean rating of the user we are predicting for.\n",
    "\n",
    "    >>> train_data = Dataset(np.array([1, 2, 3, 4]), np.array([1, 2, 2, 0]), np.array([1.0, 2.0, 2.5, 5.0]))\n",
    "    >>> test_data = Dataset(np.array([1, 2, 3, 4]), np.array([2, 1, 1, 0]), np.array([4.0, 1.0, 1.0, 2.0]))\n",
    "    >>> mean_predictor = UserMeanPredictor(train_data)\n",
    "    >>> mean_predictor(test_data)\n",
    "    array([2.25, 1.  , 1.  , 5.  ])\n",
    "    \"\"\"\n",
    "\n",
    "    def __init__(self, train_data: Dataset):\n",
    "        self.user_mean = {u: train_data.ratings[np.where(train_data.users==u)[0]].mean() for u in train_data.users}\n",
    "\n",
    "    def __call__(self, test_data: Dataset):\n",
    "        return np.array([self.user_mean[u] for u in test_data.users])"
   ]
  },
  {
   "cell_type": "code",
   "execution_count": 17,
   "metadata": {},
   "outputs": [
    {
     "name": "stdout",
     "output_type": "stream",
     "text": [
      "✅ Your `UserMeanPredictor` passes some basic tests.\n"
     ]
    }
   ],
   "source": [
    "test(UserMeanPredictor)"
   ]
  },
  {
   "cell_type": "markdown",
   "metadata": {},
   "source": [
    "Is this working better than predicting the global mean?"
   ]
  },
  {
   "cell_type": "code",
   "execution_count": 18,
   "metadata": {},
   "outputs": [
    {
     "data": {
      "text/plain": [
       "1.0891325079736849"
      ]
     },
     "execution_count": 18,
     "metadata": {},
     "output_type": "execute_result"
    }
   ],
   "source": [
    "predict_user_mean = UserMeanPredictor(train_data)\n",
    "\n",
    "mse(predict_user_mean(test_data), test_data.ratings)"
   ]
  },
  {
   "cell_type": "markdown",
   "metadata": {},
   "source": [
    "Q: Why would always predicting the user's mean be pretty useless in practice?\n",
    "\n",
    "Q: If you want, you can improve the predictor by falling back to the global mean in case we haven't seen any ratings of a user before (or not enough of them)."
   ]
  },
  {
   "cell_type": "code",
   "execution_count": 19,
   "metadata": {},
   "outputs": [
    {
     "data": {
      "text/plain": [
       "1.0890675854176024"
      ]
     },
     "execution_count": 19,
     "metadata": {},
     "output_type": "execute_result"
    }
   ],
   "source": [
    "# Q2 implementation\n",
    "class UserMeanCountPredictor(Predictor):\n",
    "    \"\"\"\n",
    "    Predict the mean rating of the user we are predicting for.\n",
    "\n",
    "    >>> train_data = Dataset(np.array([1, 2, 3, 4]), np.array([1, 2, 2, 0]), np.array([1.0, 2.0, 2.5, 5.0]))\n",
    "    >>> test_data = Dataset(np.array([1, 2, 3, 4]), np.array([2, 1, 1, 0]), np.array([4.0, 1.0, 1.0, 2.0]))\n",
    "    >>> mean_predictor = UserMeanPredictor(train_data)\n",
    "    >>> mean_predictor(test_data)\n",
    "    array([2.25, 1.  , 1.  , 5.  ])\n",
    "    \"\"\"\n",
    "\n",
    "    def __init__(self, train_data: Dataset):\n",
    "        user_count = {u: len(np.where(train_data.users==u)[0]) for u in train_data.users}\n",
    "        mean = train_data.ratings.mean()\n",
    "        self.user_mean = {u: train_data.ratings[np.where(train_data.users==u)[0]].mean() if user_count[u] > 15 else mean for u in train_data.users }\n",
    "\n",
    "    def __call__(self, test_data: Dataset):\n",
    "        return np.array([self.user_mean[u] for u in test_data.users])\n",
    "    \n",
    "predict_user_mean = UserMeanCountPredictor(train_data)\n",
    "mse(predict_user_mean(test_data), test_data.ratings)"
   ]
  },
  {
   "cell_type": "markdown",
   "metadata": {},
   "source": [
    "### Movie's mean prediction\n",
    "\n",
    "Here, to predict the score for a tuple `(movie, user)`, we will return the  average all movie ratings of the `movie`. \n",
    "\n",
    "Under what assumption is this a good model?"
   ]
  },
  {
   "cell_type": "code",
   "execution_count": 20,
   "metadata": {},
   "outputs": [],
   "source": [
    "class MovieMeanPredictor(Predictor):\n",
    "    \"\"\"\n",
    "    Predict the mean rating of the movie, irrespective of the user\n",
    "\n",
    "    >>> train_data = Dataset(np.array([0, 0, 1, 1, 2]), np.array([1, 2, 3, 4, 5]), np.array([4.0, 1.0, 1.0, 2.0, 1.0]))\n",
    "    >>> test_data = Dataset(np.array([0, 1, 2, 1]), np.array([1, 2, 2, 0]), np.array([1.0, 2.0, 2.5, 5.0]))\n",
    "    >>> mean_predictor = MovieMeanPredictor(train_data)\n",
    "    >>> mean_predictor(test_data)\n",
    "    array([2.5, 1.5, 1. , 1.5])\n",
    "    \"\"\"\n",
    "\n",
    "    def __init__(self, train_data: Dataset):\n",
    "        self.movie_mean = {m: train_data.ratings[np.where(train_data.movies==m)[0]].mean() for m in train_data.movies}\n",
    "\n",
    "    def __call__(self, test_data: Dataset):\n",
    "        return np.array([self.movie_mean[m] for m in test_data.movies])\n"
   ]
  },
  {
   "cell_type": "code",
   "execution_count": 21,
   "metadata": {},
   "outputs": [
    {
     "name": "stdout",
     "output_type": "stream",
     "text": [
      "✅ Your `MovieMeanPredictor` passes some basic tests.\n"
     ]
    }
   ],
   "source": [
    "test(MovieMeanPredictor)"
   ]
  },
  {
   "cell_type": "code",
   "execution_count": 22,
   "metadata": {},
   "outputs": [
    {
     "data": {
      "text/plain": [
       "1.0371254044716218"
      ]
     },
     "execution_count": 22,
     "metadata": {},
     "output_type": "execute_result"
    }
   ],
   "source": [
    "predict_movie_mean = MovieMeanPredictor(train_data)\n",
    "\n",
    "mse(predict_movie_mean(test_data), test_data.ratings)"
   ]
  },
  {
   "cell_type": "markdown",
   "metadata": {},
   "source": [
    "### Matrix Factorization\n",
    "\n",
    "With those baselines, we can implement a more realistic recommendation model that using Matrix Factorization.\n",
    "\n",
    "- To each movie $i$ in the dataset, we will assign a $d$-dimensional trainable ‘representation vector’ $\\mathbf{m}_i$.\n",
    "- To each user $j$ in the dataset, we will assign a $d$-dimensional trainable ‘representation vector’ $\\mathbf{u}_j$.\n",
    "- You can summarize those representations in two matrices: $\\mathbf{M}$ of size `(#movies, d)`, and $\\mathbf{U}$ of size `(#users, d)`.\n",
    "- The predicted score we will give for a movie $i$ and a user $j$ will be the dot product $\\mathbf{m}_i \\cdot \\mathbf{u}_j$.\n",
    "- You can simultaneously express the predicted scores for all movies and all users as a matrix of size `(#movies, #users)` as the matrix product $\\mathbf{M} \\mathbf{U}^\\top$. This interpretation gives the name to this model.\n",
    "- Given a training set $T$ with rating triples `(movie i, user j, rating r)`,\n",
    "  we will optimize the mean squared prediction error $\\frac{1}{|T|}\\sum_{(i, j, r) \\in T} (\\mathbf{m}_i \\cdot \\mathbf{u}_j - r)^2$ over the training set. "
   ]
  },
  {
   "cell_type": "code",
   "execution_count": 23,
   "metadata": {},
   "outputs": [],
   "source": [
    "class MatrixFactorizationPredictor(Predictor):\n",
    "    \"\"\"\n",
    "    Predict the rating of a user/movie pair as the dot-product\n",
    "    of representation vectors of the user and the movie.\n",
    "\n",
    "    >>> train_data = Dataset(np.array([0, 0, 1, 1, 2]), np.array([1, 2, 3, 4, 5]), np.array([4.0, 1.0, 1.0, 2.0, 1.0]))\n",
    "    >>> test_data = Dataset(np.array([0, 1, 2, 1]), np.array([1, 2, 2, 0]), np.array([1.0, 2.0, 2.5, 5.0]))\n",
    "    >>> mean_predictor = MatrixFactorizationPredictor(train_data)\n",
    "    >>> mean_predictor(test_data)  # the factorization is not yet optimized here\n",
    "    array([ 2.62654714, -2.89866225,  0.70909287,  5.29901482])\n",
    "    \"\"\"\n",
    "\n",
    "    def __init__(self, train_data: Dataset, num_features=20, seed=1):\n",
    "        # Randomly initialize features for the users and the movies from N(0, 1)\n",
    "        rng = np.random.default_rng(seed)\n",
    "        num_movies = np.max(train_data.movies) + 1\n",
    "        num_users = np.max(train_data.users) + 1\n",
    "        self.movie_features = rng.normal(0,1,size=(num_movies,num_features))\n",
    "        self.user_features = rng.normal(0,1,size=(num_users,num_features))\n",
    "\n",
    "    def __call__(self, test_data: Dataset):\n",
    "        return np.array([self.movie_features[m] @ self.user_features[u].T for m,u in zip(test_data.movies,test_data.users)])"
   ]
  },
  {
   "cell_type": "code",
   "execution_count": 24,
   "metadata": {},
   "outputs": [
    {
     "name": "stdout",
     "output_type": "stream",
     "text": [
      "✅ Your `MatrixFactorizationPredictor` passes some basic tests.\n"
     ]
    }
   ],
   "source": [
    "test(MatrixFactorizationPredictor)"
   ]
  },
  {
   "cell_type": "markdown",
   "metadata": {},
   "source": [
    "Without training, the `MatrixFactorizationPredictor` would not perform so well:"
   ]
  },
  {
   "cell_type": "code",
   "execution_count": 25,
   "metadata": {},
   "outputs": [
    {
     "data": {
      "text/plain": [
       "33.510638638944506"
      ]
     },
     "execution_count": 25,
     "metadata": {},
     "output_type": "execute_result"
    }
   ],
   "source": [
    "predict_global_mean = MatrixFactorizationPredictor(train_data)\n",
    "\n",
    "mse(predict_global_mean(test_data), test_data.ratings)"
   ]
  },
  {
   "cell_type": "markdown",
   "metadata": {},
   "source": [
    "### Optimize the factorization using SGD\n",
    "\n",
    "One way to optimize the representation vectors for movies and users, is to sample terms from the following loss function:\n",
    "\n",
    "$$\\frac{1}{|T|}\\sum_{(i, j, r) \\in T} (\\mathbf{m}_i \\cdot \\mathbf{u}_j - r)^2$$\n",
    "\n",
    "and optimize the sampled $\\mathbf{m}_i$ and $\\mathbf{u}_j$ using a stochastic gradient descent step.\n",
    "\n",
    "To improve generalization, we will add L2 regularization (also known as `weight decay`) to this model, both for the movie representations as well as for the user representations. Because those weights are unique for each movie / user, you should also sample those stochastically. If you sample a triple `(i, j, r)`, you should minimize:\n",
    "\n",
    "$$ (\\mathbf{m}_i \\cdot \\mathbf{u}_j - r)^2 + \\lambda_\\text{movie} \\left\\lVert\\mathbf{m}_i\\right\\rVert^2 + \\lambda_\\text{user} \\left\\lVert\\mathbf{u}_j\\right\\rVert^2$$\n",
    "\n",
    "You should start by computing a gradient for this term."
   ]
  },
  {
   "cell_type": "code",
   "execution_count": 31,
   "metadata": {},
   "outputs": [
    {
     "data": {
      "text/plain": [
       "array([-0.5433559 , -0.46870102, -0.19975845,  0.46120982,  0.24036421,\n",
       "       -0.40039292,  0.34801741,  0.26087651,  0.4040812 ,  0.64303526,\n",
       "       -0.33908535,  0.11342442,  0.04127748, -0.29291084, -0.2662524 ,\n",
       "       -0.88963068, -0.19263295, -0.30494719,  0.04907814, -0.13750928])"
      ]
     },
     "execution_count": 31,
     "metadata": {},
     "output_type": "execute_result"
    }
   ],
   "source": [
    "predictor.movie_features[movie]"
   ]
  },
  {
   "cell_type": "code",
   "execution_count": 30,
   "metadata": {},
   "outputs": [
    {
     "name": "stdout",
     "output_type": "stream",
     "text": [
      "Train error after epoch 1: 1.0245345294717099\n",
      "Test error after epoch 1: 1.2300529233434647\n",
      "Train error after epoch 2: 0.964632069393544\n",
      "Test error after epoch 2: 1.0937318334830821\n",
      "Train error after epoch 3: 0.9703982865880034\n",
      "Test error after epoch 3: 1.0584396393944502\n",
      "Train error after epoch 4: 0.955619798424758\n",
      "Test error after epoch 4: 1.0351986469280874\n",
      "Train error after epoch 5: 0.9694607359506461\n",
      "Test error after epoch 5: 1.043191354404911\n",
      "Train error after epoch 6: 0.9485285589078594\n",
      "Test error after epoch 6: 1.0158627550199117\n",
      "Train error after epoch 7: 0.9507976314288241\n",
      "Test error after epoch 7: 1.0123737925747935\n",
      "Train error after epoch 8: 0.9572403712247597\n",
      "Test error after epoch 8: 1.0103796681772046\n",
      "Train error after epoch 9: 0.9422315637124549\n",
      "Test error after epoch 9: 1.0011781184459116\n",
      "Train error after epoch 10: 0.944241628416053\n",
      "Test error after epoch 10: 1.0020358037016035\n",
      "Train error after epoch 11: 0.9389555924897931\n",
      "Test error after epoch 11: 0.9952182939834201\n",
      "Train error after epoch 12: 0.9323312770488266\n",
      "Test error after epoch 12: 0.9849694756994882\n",
      "Train error after epoch 13: 0.9296473189228486\n",
      "Test error after epoch 13: 0.9827431979972205\n",
      "Train error after epoch 14: 0.9331964397023877\n",
      "Test error after epoch 14: 0.9849230753162821\n",
      "Train error after epoch 15: 0.9292456628713254\n",
      "Test error after epoch 15: 0.9775352191853697\n",
      "Train error after epoch 16: 0.9183143067662369\n",
      "Test error after epoch 16: 0.9711933482174815\n",
      "Train error after epoch 17: 0.9236737198888674\n",
      "Test error after epoch 17: 0.9742117631771788\n",
      "Train error after epoch 18: 0.9177762871665477\n",
      "Test error after epoch 18: 0.97080397298939\n",
      "Train error after epoch 19: 0.919023264912897\n",
      "Test error after epoch 19: 0.9711977975386146\n",
      "Train error after epoch 20: 0.9180314663765572\n",
      "Test error after epoch 20: 0.9682233407563406\n"
     ]
    }
   ],
   "source": [
    "learning_rate = 0.02\n",
    "weight_decay_movie = 0.3\n",
    "weight_decay_user = 0.3\n",
    "\n",
    "predictor = MatrixFactorizationPredictor(train_data)\n",
    "rng = np.random.default_rng(0)\n",
    "for epoch in range(20):\n",
    "    # Shuffle the dataset\n",
    "    datapoint_indices = rng.permutation(len(train_data.ratings))\n",
    "    for point in datapoint_indices:\n",
    "        movie = train_data.movies[point]\n",
    "        user = train_data.users[point]\n",
    "        rating = train_data.ratings[point]\n",
    "\n",
    "        # Optimize the factorizations in `predictor` using an SGD\n",
    "        # step based on the datapoint (movie, user, rating).\n",
    "        movie_grad = 2*(predictor.movie_features[movie] @ predictor.user_features[user].T - rating)*predictor.user_features[user] + 2*weight_decay_movie*predictor.movie_features[movie]\n",
    "        user_grad = 2*(predictor.movie_features[movie] @ predictor.user_features[user].T - rating)*predictor.movie_features[movie] + 2*weight_decay_movie*predictor.user_features[user]\n",
    "\n",
    "        predictor.movie_features[movie] = predictor.movie_features[movie] - learning_rate * movie_grad\n",
    "        predictor.user_features[user] = predictor.user_features[user] - learning_rate * user_grad\n",
    "\n",
    "    learning_rate *= 0.9  # decay the learning rate after each epoch\n",
    "\n",
    "    print(\n",
    "        f\"Train error after epoch {epoch+1}: {mse(predictor(train_data), train_data.ratings)}\"\n",
    "    )\n",
    "    print(\n",
    "        f\"Test error after epoch {epoch+1}: {mse(predictor(test_data), test_data.ratings)}\"\n",
    "    )"
   ]
  },
  {
   "cell_type": "markdown",
   "metadata": {},
   "source": [
    "You should expect the test error to go down below 1.0.\n",
    "\n",
    "Feel free to play with the weight decay parameters and learning rates to improve these results."
   ]
  },
  {
   "cell_type": "markdown",
   "metadata": {},
   "source": [
    "### Optimize the factoriziation using Alternating Least Squares\n",
    "\n",
    "Instead of optimizing the objective\n",
    "\n",
    "$$\\frac{1}{|T|}\\sum_{(i, j, r) \\in T} (\\mathbf{m}_i \\cdot \\mathbf{u}_j - r)^2 + \\lambda_\\text{movie} \\left\\lVert \\mathbf{M} \\right\\rVert^2_\\text{F} + \\lambda_\\text{user} \\left\\lVert \\mathbf{U} \\right\\rVert^2_\\text{F}$$\n",
    "\n",
    "using SGD by sampling terms, we can also use ‘Alternating Least Squares’. For ALS, we make the observation that, if all users representations $\\mathbf{u}_j$ are fixed, optimizing all $\\mathbf{m}_i$ is a simple least squares problem. Similarly, if the movie representations $\\mathbf{m}_i$ are all fixed, optimizing all $\\mathbf{u}_j$ is a simple least squares problem. \n",
    "\n",
    "What we will do here, is alternate between the following steps:\n",
    "- Fix the user representations, and perfectly optimize the movie representations.\n",
    "- Fix the movie representations, and perfectly optimize the user representations."
   ]
  },
  {
   "cell_type": "code",
   "execution_count": 39,
   "metadata": {},
   "outputs": [
    {
     "name": "stdout",
     "output_type": "stream",
     "text": [
      "Train error after step 1: 11.708455033752012\n",
      "Test error after step 1: 11.783014698027515\n",
      "Train error after step 2: 1.2884765779431497\n",
      "Test error after step 2: 1.3236836547404496\n",
      "Train error after step 3: 0.9683548055234776\n",
      "Test error after step 3: 1.0868753659647525\n",
      "Train error after step 4: 0.9351269222461474\n",
      "Test error after step 4: 1.059241856237412\n",
      "Train error after step 5: 0.9211492940399422\n",
      "Test error after step 5: 1.0441578043506212\n",
      "Train error after step 6: 0.915598354389511\n",
      "Test error after step 6: 1.037428511595535\n",
      "Train error after step 7: 0.9123987466198015\n",
      "Test error after step 7: 1.0334305944900373\n",
      "Train error after step 8: 0.9102479873626923\n",
      "Test error after step 8: 1.03071023347698\n",
      "Train error after step 9: 0.9088054414375701\n",
      "Test error after step 9: 1.028860529157081\n",
      "Train error after step 10: 0.9078183234183447\n",
      "Test error after step 10: 1.0275804029981865\n",
      "Train error after step 11: 0.9071267866747506\n",
      "Test error after step 11: 1.0266783286800514\n",
      "Train error after step 12: 0.9066296309352587\n",
      "Test error after step 12: 1.0260288260543833\n",
      "Train error after step 13: 0.9062635177319198\n",
      "Test error after step 13: 1.025552212949288\n",
      "Train error after step 14: 0.9059878015087881\n",
      "Test error after step 14: 1.0251963335896985\n",
      "Train error after step 15: 0.9057758962045716\n",
      "Test error after step 15: 1.0249263192420695\n",
      "Train error after step 16: 0.9056100642421576\n",
      "Test error after step 16: 1.0247184614317333\n",
      "Train error after step 17: 0.9054782372478033\n",
      "Test error after step 17: 1.024556357489108\n",
      "Train error after step 18: 0.9053720329187457\n",
      "Test error after step 18: 1.0244284650689277\n",
      "Train error after step 19: 0.9052855002187514\n",
      "Test error after step 19: 1.0243265170793827\n",
      "Train error after step 20: 0.9052143233942338\n",
      "Test error after step 20: 1.0242444958477994\n",
      "Train error after step 21: 0.9051553080034822\n",
      "Test error after step 21: 1.0241779539330529\n",
      "Train error after step 22: 0.9051060445874924\n",
      "Test error after step 22: 1.0241235591962459\n",
      "Train error after step 23: 0.905064684464265\n",
      "Test error after step 23: 1.0240787841310888\n",
      "Train error after step 24: 0.9050297876672829\n",
      "Test error after step 24: 1.0240416905052843\n",
      "Train error after step 25: 0.9050002177178398\n",
      "Test error after step 25: 1.0240107774173937\n",
      "Train error after step 26: 0.9049750673815715\n",
      "Test error after step 26: 1.023984872439187\n",
      "Train error after step 27: 0.9049536052577813\n",
      "Test error after step 27: 1.0239630524599908\n",
      "Train error after step 28: 0.9049352366502813\n",
      "Test error after step 28: 1.023944585374864\n",
      "Train error after step 29: 0.9049194744109331\n",
      "Test error after step 29: 1.0239288866207945\n",
      "Train error after step 30: 0.9049059168802398\n",
      "Test error after step 30: 1.0239154864486564\n",
      "Train error after step 31: 0.9048942309687953\n",
      "Test error after step 31: 1.0239040050580217\n",
      "Train error after step 32: 0.9048841390251612\n",
      "Test error after step 32: 1.0238941335580434\n",
      "Train error after step 33: 0.9048754085348881\n",
      "Test error after step 33: 1.023885619288468\n",
      "Train error after step 34: 0.9048678439652045\n",
      "Test error after step 34: 1.023878254432169\n",
      "Train error after step 35: 0.9048612802553845\n",
      "Test error after step 35: 1.0238718671311011\n",
      "Train error after step 36: 0.9048555775826627\n",
      "Test error after step 36: 1.0238663145186788\n",
      "Train error after step 37: 0.9048506171260092\n",
      "Test error after step 37: 1.0238614772276333\n",
      "Train error after step 38: 0.9048462976169729\n",
      "Test error after step 38: 1.023857255039667\n",
      "Train error after step 39: 0.9048425325158928\n",
      "Test error after step 39: 1.0238535634228583\n",
      "Train error after step 40: 0.9048392476883225\n",
      "Test error after step 40: 1.0238503307623095\n",
      "Train error after step 41: 0.9048363794839801\n",
      "Test error after step 41: 1.0238474961344701\n",
      "Train error after step 42: 0.9048338731414476\n",
      "Test error after step 42: 1.0238450075095789\n",
      "Train error after step 43: 0.9048316814578716\n",
      "Test error after step 43: 1.0238428202926568\n",
      "Train error after step 44: 0.9048297636753141\n",
      "Test error after step 44: 1.023840896133334\n",
      "Train error after step 45: 0.9048280845450549\n",
      "Test error after step 45: 1.0238392019500677\n",
      "Train error after step 46: 0.9048266135387087\n",
      "Test error after step 46: 1.023837709126099\n",
      "Train error after step 47: 0.9048253241809832\n",
      "Test error after step 47: 1.023836392843606\n",
      "Train error after step 48: 0.904824193483628\n",
      "Test error after step 48: 1.0238352315295645\n",
      "Train error after step 49: 0.9048232014638865\n",
      "Test error after step 49: 1.0238342063923673\n"
     ]
    }
   ],
   "source": [
    "movie_regularization = 20\n",
    "user_regularization = 20\n",
    "max_iterations = 1000\n",
    "stop_criterion = 1e-6\n",
    "\n",
    "predictor = MatrixFactorizationPredictor(train_data)\n",
    "user_features = predictor.user_features\n",
    "movie_features = predictor.movie_features\n",
    "# features_count = user_features.shape[1]\n",
    "rng = np.random.default_rng(0)\n",
    "\n",
    "prev_train_error = None\n",
    "\n",
    "# num_movies = np.max(train_data.movies) + 1\n",
    "# num_users = np.max(train_data.users) + 1\n",
    "# X = np.nan_to_num(to_matrix(train_data,num_movies,num_users))\n",
    "\n",
    "for iteration in range(max_iterations):\n",
    "    # Optimize the user features\n",
    "    for user in np.unique(train_data.users):\n",
    "        # Update `user_features[user]` by optimizing the regularized corresponding least squares objective\n",
    "        mask = train_data.users == user\n",
    "        user_movies = train_data.movies[mask]\n",
    "\n",
    "        W = movie_features[user_movies]\n",
    "        r = train_data.ratings[mask]\n",
    "        predictor.user_features[user] = np.linalg.solve(W.T.dot(W)+user_regularization*np.eye(W.shape[1]), W.T.dot(r))\n",
    "\n",
    "    # Optimize the movie features using least squares\n",
    "    for movie in np.unique(train_data.movies):\n",
    "        # Update `movie_features[movie]` by optimizing the regularized corresponding least squares objective\n",
    "        mask = train_data.movies == movie\n",
    "        movie_users = train_data.users[mask]\n",
    "\n",
    "        W = movie_features[movie_users]\n",
    "        r = train_data.ratings[mask]\n",
    "        predictor.movie_features[movie] = np.linalg.solve(W.T.dot(W)+user_regularization*np.eye(W.shape[1]), W.T.dot(r))\n",
    "\n",
    "    train_error = mse(predictor(train_data), train_data.ratings)\n",
    "    print(f\"Train error after step {iteration+1}: {train_error}\")\n",
    "    print(\n",
    "        f\"Test error after step {iteration+1}: {mse(predictor(test_data), test_data.ratings)}\"\n",
    "    )\n",
    "\n",
    "    # Stop if the training error is not going down more than 'stop_criterion'\n",
    "    if (prev_train_error is not None):\n",
    "        if (prev_train_error - train_error < stop_criterion):\n",
    "            break\n",
    "    prev_train_error = train_error"
   ]
  },
  {
   "cell_type": "markdown",
   "metadata": {},
   "source": [
    "You should find that this beats the simple baselines.\n",
    "Using default SGD parameters, the alternating least squares solution here outperforms it, but by tuning SGD carefully, you should be able to get the same quality."
   ]
  }
 ],
 "metadata": {
  "kernelspec": {
   "display_name": "ml",
   "language": "python",
   "name": "python3"
  },
  "language_info": {
   "codemirror_mode": {
    "name": "ipython",
    "version": 3
   },
   "file_extension": ".py",
   "mimetype": "text/x-python",
   "name": "python",
   "nbconvert_exporter": "python",
   "pygments_lexer": "ipython3",
   "version": "3.9.18"
  }
 },
 "nbformat": 4,
 "nbformat_minor": 4
}
